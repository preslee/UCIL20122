{
 "cells": [
  {
   "cell_type": "markdown",
   "metadata": {},
   "source": [
    "## 2. Experimentation on a simple Machine Learning algorithm"
   ]
  },
  {
   "cell_type": "markdown",
   "metadata": {},
   "source": [
    "The **k-nearest neighbour** is one of the simplest algorithm used in Machine Learning. This algorithm classifies objects based on **features**. In Machine Learning, a **feature** is an individual measurable property or characteristic of a phaenomenon being observed.\n",
    "\n",
    "Assuming that we want to develop a program to identify whether a person is a ballet dancer or a rugby player, which of the following features you consider distinguishing? Run the following cell and select the answer."
   ]
  },
  {
   "cell_type": "code",
   "execution_count": null,
   "metadata": {},
   "outputs": [],
   "source": [
    "from Widget import *\n",
    "from getFeedbackOnFeatureSelection import *\n",
    "from IPython.display import *\n",
    "\n",
    "#Widget generator - please don't change\n",
    "newWidget = Widget (['Height', 'Weight', 'Age', 'Sex', 'Name'], 'Features')\n",
    "newWidget.createSelectMultiple()\n",
    "newWidget.displayWidget()\n",
    "\n",
    "#Generate the feedback - please don't change the code\n",
    "\n",
    "feedbackQ1 = getFeedbackOnFeatureSelection(newWidget)\n",
    "feedbackQ1.createButton(\"Get feedback\")\n",
    "feedbackQ1.displayButton()\n",
    "\n",
    "def on_button_clicked(b):\n",
    "    clear_output()\n",
    "    feedbackQ1.printFeedback(newWidget)\n",
    "feedbackQ1.button.on_click(on_button_clicked)"
   ]
  },
  {
   "cell_type": "markdown",
   "metadata": {},
   "source": [
    "In our analysis, consider the data sets below collected from a sample of ballet dancer and rugby players. In this table, we will represent **males** as 0 and **females** as 1."
   ]
  },
  {
   "cell_type": "markdown",
   "metadata": {},
   "source": [
    "|Person|Sex (0/1)|Age |Weight (Kg)|Height (cm)|\n",
    "|------|---------|----|-----------|-----------|\n",
    "|     1|        1|  24|         63|        190|\n",
    "|     2|        1|  20|         55|        185|\n",
    "|     3|        1|  25|         75|        202|\n",
    "|     4|        1|  30|         50|        180|\n",
    "|     5|        1|  19|         57|        174|\n",
    "|     6|        0|  31|         66|        174|\n",
    "|     7|        0|  31|         85|        150|\n",
    "|     8|        0|  28|         93|        145|\n",
    "|     9|        0|  29|         75|        130|\n",
    "|    10|        0|  24|         99|        163|\n",
    "|    11|        0|  30|        100|        171|\n",
    "|    12|        1|  25|         84|        168|"
   ]
  },
  {
   "cell_type": "markdown",
   "metadata": {},
   "source": [
    "Now, let's represent these values in 2-dimentional spaces taking different groups of 2 features into consideration. Please execute the code below to see how **weight** and **age** data is distributed in a 2 dimentional space."
   ]
  },
  {
   "cell_type": "code",
   "execution_count": null,
   "metadata": {},
   "outputs": [],
   "source": [
    "import numpy as np\n",
    "from numpy import *\n",
    "import matplotlib.pyplot as plt\n",
    "\n",
    "#Collect the weights and ages from the table\n",
    "weights = [63, 55, 75, 50, 57, 66, 85, 93, 75, 99, 100, 84]\n",
    "ages = [24, 20, 25, 30, 19, 31, 31, 28, 29, 24, 30, 25]"
   ]
  },
  {
   "cell_type": "code",
   "execution_count": null,
   "metadata": {},
   "outputs": [],
   "source": [
    "#Plot the graph\n",
    "plt.scatter(weights,ages)\n",
    "plt.title(\"Data distribution on weights and ages\")\n",
    "plt.xlabel(\"Weight\")\n",
    "plt.ylabel(\"Age\")\n",
    "plt.show()"
   ]
  },
  {
   "cell_type": "markdown",
   "metadata": {},
   "source": [
    "It seems that from the graphic above it's impossible to identify **clusters**. This is because the age is not a distinguishing element that could separate rugby players and ballet dancers. Let's see how it works with **heights** and **weights**."
   ]
  },
  {
   "cell_type": "code",
   "execution_count": null,
   "metadata": {},
   "outputs": [],
   "source": [
    "#Collect the heights and weights from the table\n",
    "heights = [190, 185, 202, 180, 174, 174, 150, 145, 130, 163, 171, 168]\n",
    "weights = [63, 55, 75, 50, 57, 66, 85, 93, 75, 99, 100, 84]"
   ]
  },
  {
   "cell_type": "code",
   "execution_count": null,
   "metadata": {},
   "outputs": [],
   "source": [
    "#Plot the graph\n",
    "plt.scatter(heights,weights)\n",
    "plt.title(\"Data distribution on heights and weights\")\n",
    "plt.xlabel(\"Height\")\n",
    "plt.ylabel(\"Weight\")\n",
    "plt.show()"
   ]
  },
  {
   "cell_type": "markdown",
   "metadata": {},
   "source": [
    "By choosing the **heights** and **weights** features to clasify these examples, two clusters of data can be distinguished: *top-left* and *bottom-right*. \n",
    "\n",
    "In your opinion, which one of these represents the rugby players? Execute the code below and choose your answer."
   ]
  },
  {
   "cell_type": "code",
   "execution_count": null,
   "metadata": {},
   "outputs": [],
   "source": [
    "#Create the selection box - please don't change\n",
    "from getFeedbackOnClusters import *\n",
    "\n",
    "clusterWidget = Widget (['Top-left', 'Bottom-right'], 'Clusters')\n",
    "clusterWidget.createSelectSingle()\n",
    "clusterWidget.displayWidget()\n",
    "\n",
    "#Create the feedback button - don't change the code\n",
    "feedbackQ2 = getFeedbackOnClusters(clusterWidget)\n",
    "feedbackQ2.createButton(\"Get feedback\")\n",
    "feedbackQ2.displayButton()\n",
    "\n",
    "def on_button_clicked(b):\n",
    "    clear_output()\n",
    "    feedbackQ2.printFeedback(clusterWidget)\n",
    "feedbackQ2.button.on_click(on_button_clicked)"
   ]
  },
  {
   "cell_type": "markdown",
   "metadata": {},
   "source": [
    "Now that we clearly identified  2 data clusters (i.e. ballet dancers and rugby players), we can introduce our own data and predict whether our example is a rugby player or a ballet dancer. The data will be classified by the aid of the **k-nearest algorithm** which is designed (as the name suggests), to identify which class the new objects belongs to depending on the closests **k** neighbours. In this case, to calculate the distance between the input point and its neighbours, we'll use the **Pythagorean formula** : $$d = \\sqrt{(x_{2} - x_{1})^2 + (y_{2}-y_{1})^2}$$"
   ]
  },
  {
   "cell_type": "markdown",
   "metadata": {},
   "source": [
    "For now, let's preapare the data from the graph into a matrix that can be processed by the algorithm. Execute the cell below."
   ]
  },
  {
   "cell_type": "code",
   "execution_count": null,
   "metadata": {},
   "outputs": [],
   "source": [
    "featuresMatrix = np.c_[transpose(heights), transpose(weights)]\n",
    "labelsMatrix = transpose([1, 1, 1, 1, 1, 1, 0, 0, 0, 0, 0, 0])\n",
    "trainingMatrix = np.c_[featuresMatrix, labelsMatrix]\n",
    "print (trainingMatrix)"
   ]
  },
  {
   "cell_type": "markdown",
   "metadata": {},
   "source": [
    "Next, replace the words in the code below to introduce your testing point containing the height and weight of a famouse rugby player or ballet dancer."
   ]
  },
  {
   "cell_type": "code",
   "execution_count": null,
   "metadata": {},
   "outputs": [],
   "source": [
    "#replace the ? below with your own testing value and run the code\n",
    "import math\n",
    "\n",
    "distances = np.empty([0,2])\n",
    "\n",
    "height = ?\n",
    "weight = ?\n",
    "\n",
    "testingPoint = [height, weight]\n",
    "\n",
    "#calculate the distances\n",
    "for trainingPoint in trainingMatrix:\n",
    "    trainingPoint[0]\n",
    "    distance = math.sqrt((trainingPoint[0] - height)**2 + (trainingPoint[1] - weight)**2)\n",
    "    distances = np.vstack([distances, [distance, trainingPoint[2]]])\n",
    "\n",
    "#sort the distances    \n",
    "distances = distances[distances[:,0].argsort()]\n",
    "\n",
    "classOne = 0\n",
    "classTwo = 0\n",
    "\n",
    "for i in range(0,6):\n",
    "    if distances[i][1] == 1:\n",
    "        classOne = classOne + 1\n",
    "    else:\n",
    "        classTwo = classTwo + 1\n",
    "\n",
    "if classOne > classTwo:\n",
    "    print(\"Ballet dancer\")\n",
    "else:\n",
    "        print(\"Rugby player\")"
   ]
  },
  {
   "cell_type": "markdown",
   "metadata": {},
   "source": [
    "One of topics you have experienced as part the Module 3 was \"Biases in data\". To refresh you memory about this concept, please watch the video below."
   ]
  },
  {
   "cell_type": "markdown",
   "metadata": {},
   "source": [
    "<iframe width=\"560\" height=\"315\" src=\"https://www.youtube.com/watch?v=IRSHDfLphFI&feature=youtu.be\" frameborder=\"0\" allowfullscreen></iframe>"
   ]
  },
  {
   "cell_type": "markdown",
   "metadata": {},
   "source": [
    "|Person|Sex (0/1)|Age |Weight (Kg)|Height (cm)|Label (ballet/rugby)|\n",
    "|------|---------|----|-----------|-----------|--------------------|\n",
    "|     1|        1|  24|         63|        190|                   b|\n",
    "|     2|        1|  25|         84|        168|                   r|\n",
    "|     3|        1|  20|         55|        185|                   b|\n",
    "|     4|        1|  25|         75|        202|                   b|\n",
    "|     5|        0|  24|         99|        163|                   r|\n",
    "|     6|        1|  30|         50|        180|                   b|\n",
    "|     7|        0|  29|         75|        130|                   r|\n",
    "|     8|        1|  19|         57|        174|                   b|\n",
    "|     9|        0|  31|         66|        174|                   b|\n",
    "|    10|        0|  31|         85|        150|                   r|\n",
    "|    11|        0|  28|         93|        145|                   r|\n",
    "|    12|        0|  30|        100|        171|                   r|\n"
   ]
  },
  {
   "cell_type": "markdown",
   "metadata": {},
   "source": [
    "Based on the data above, similarly, we can create a rule to predict if someone is a ballet dancer or rugby player based on their **weight** and **sex**. The rule might sound like this: A **female** weighing less than **75 kg** is not a **rugby player**. Regardless of the way we select the training and testing sets, this rule would make a 100% accurate prediction. However, if you have a look on the England Rugby website, there are plenty of female rugby players weighing less than **75kg**, and the rule would not achieve such high accuracy. In this particular case, the bias in data arose from the fact that the data was collected from groups of people sharing the same particularity (i.e. gender). Therefore, proper randomization was not achieved, and the sample of data does not accurately represent the population we want to analyse.\n",
    "\n",
    "Having these examples in mind, reflect on a situation where the propagation of bias in data could have serious consequences (e.g. a Machine Learning recruiting algorithm, a crime-predicting software etc.)."
   ]
  },
  {
   "cell_type": "code",
   "execution_count": null,
   "metadata": {},
   "outputs": [],
   "source": []
  }
 ],
 "metadata": {
  "kernelspec": {
   "display_name": "Python 3",
   "language": "python",
   "name": "python3"
  },
  "language_info": {
   "codemirror_mode": {
    "name": "ipython",
    "version": 3
   },
   "file_extension": ".py",
   "mimetype": "text/x-python",
   "name": "python",
   "nbconvert_exporter": "python",
   "pygments_lexer": "ipython3",
   "version": "3.6.5"
  }
 },
 "nbformat": 4,
 "nbformat_minor": 2
}
