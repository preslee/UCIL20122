{
 "cells": [
  {
   "cell_type": "markdown",
   "metadata": {},
   "source": [
    "# 2. Experimentation on a simple Machine Learning algorithm"
   ]
  },
  {
   "cell_type": "markdown",
   "metadata": {},
   "source": [
    "The **k-nearest neighbour** is one of the simplest algorithm used in Machine Learning. This algorithm classifies objects based on **features**. In Machine Learning, a **feature** is an individual measurable property or characteristic of a phaenomenon being observed.\n",
    "\n",
    "Assuming that we want to develop a program to identify whether a person is a ballet dancer or a rugby player, which of the following features you consider distinguishing? Run the following cell and select the answer."
   ]
  },
  {
   "cell_type": "code",
   "execution_count": null,
   "metadata": {},
   "outputs": [],
   "source": [
    "from Widget import *\n",
    "from getFeedbackOnFeatureSelection import *\n",
    "from IPython.display import *\n",
    "\n",
    "#Widget generator - please don't change\n",
    "newWidget = Widget (['Height', 'Weight', 'Age', 'Sex', 'Name'], 'Features')\n",
    "newWidget.createSelectMultiple()\n",
    "newWidget.displayWidget()\n",
    "\n",
    "#Generate the feedback - please don't change the code\n",
    "\n",
    "feedbackQ1 = getFeedbackOnFeatureSelection(newWidget)\n",
    "feedbackQ1.createButton(\"Get feedback\")\n",
    "feedbackQ1.displayButton()\n",
    "\n",
    "def on_button_clicked(b):\n",
    "    clear_output()\n",
    "    feedbackQ1.printFeedback(newWidget)\n",
    "feedbackQ1.button.on_click(on_button_clicked)"
   ]
  },
  {
   "cell_type": "markdown",
   "metadata": {},
   "source": [
    "In our analysis, consider the data sets below collected from a sample of ballet dancer and rugby players. In this table, we will represent **males** as 0 and **females** as 1."
   ]
  },
  {
   "cell_type": "markdown",
   "metadata": {},
   "source": [
    "|Person|Sex (0/1)|Age |Weight (Kg)|Height (cm)|\n",
    "|------|---------|----|-----------|-----------|\n",
    "|     1|        1|  24|         63|        190|\n",
    "|     2|        1|  20|         55|        185|\n",
    "|     3|        0|  25|         75|        202|\n",
    "|     4|        1|  30|         50|        180|\n",
    "|     5|        0|  19|         57|        174|\n",
    "|     6|        0|  31|         85|        150|\n",
    "|     7|        1|  28|         93|        145|\n",
    "|     8|        0|  29|         75|        130|\n",
    "|     9|        0|  24|         99|        163|\n",
    "|    10|        0|  30|        100|        171|"
   ]
  },
  {
   "cell_type": "markdown",
   "metadata": {},
   "source": [
    "Now, let's represent these values in 2-dimentional spaces taking different groups of 2 features into consideration. Please execute the code below to see how **weight** and **age** data is distributed in a 2 dimentional space."
   ]
  },
  {
   "cell_type": "code",
   "execution_count": null,
   "metadata": {},
   "outputs": [],
   "source": [
    "from numpy import *\n",
    "import matplotlib.pyplot as plt\n",
    "\n",
    "#Collect the weights and ages from the table\n",
    "weights = [63, 55, 75, 50, 57, 85, 93, 75, 99, 100]\n",
    "ages = [24, 20, 25, 30, 19, 31, 28, 29, 24, 30]"
   ]
  },
  {
   "cell_type": "code",
   "execution_count": null,
   "metadata": {},
   "outputs": [],
   "source": [
    "#Plot the graph\n",
    "plt.scatter(weights,ages)\n",
    "plt.title(\"Data distribution on weights and ages\")\n",
    "plt.xlabel(\"Weight\")\n",
    "plt.ylabel(\"Age\")\n",
    "plt.show()"
   ]
  },
  {
   "cell_type": "markdown",
   "metadata": {},
   "source": [
    "It seems that from the graphic above it's impossible to identify **clusters**. This is because the age is not a distinguishing element that could separate rugby players and ballet dancers. Let's see how it works with **heights** and **weights**."
   ]
  },
  {
   "cell_type": "code",
   "execution_count": null,
   "metadata": {},
   "outputs": [],
   "source": [
    "#Collect the heights and weights from the table\n",
    "heights = [190, 185, 202, 180, 174, 150, 145, 130, 163, 171]\n",
    "weights = [63, 55, 75, 50, 57, 85, 93, 75, 99, 100]"
   ]
  },
  {
   "cell_type": "code",
   "execution_count": null,
   "metadata": {},
   "outputs": [],
   "source": [
    "#Plot the graph\n",
    "plt.scatter(heights,weights)\n",
    "plt.title(\"Data distribution on heights and weights\")\n",
    "plt.xlabel(\"Height\")\n",
    "plt.ylabel(\"Weight\")\n",
    "plt.show()"
   ]
  },
  {
   "cell_type": "markdown",
   "metadata": {},
   "source": [
    "By choosing the **heights** and **weights** features to clasify these examples, two clusters of data can be distinguished: *top-left* and *bottom-right*. \n",
    "\n",
    "In your opinion, which one of these represents the rugby players? Execute the code below and choose your answer."
   ]
  },
  {
   "cell_type": "code",
   "execution_count": null,
   "metadata": {},
   "outputs": [],
   "source": [
    "#Create the selection box - please don't change\n",
    "from getFeedbackOnClusters import *\n",
    "\n",
    "clusterWidget = Widget (['Top-left', 'Bottom-right'], 'Clusters')\n",
    "clusterWidget.createSelectSingle()\n",
    "clusterWidget.displayWidget()\n",
    "\n",
    "#Create the feedback button - don't change the code\n",
    "feedbackQ2 = getFeedbackOnClusters(clusterWidget)\n",
    "feedbackQ2.createButton(\"Get feedback\")\n",
    "feedbackQ2.displayButton()\n",
    "\n",
    "def on_button_clicked(b):\n",
    "    clear_output()\n",
    "    feedbackQ2.printFeedback(clusterWidget)\n",
    "feedbackQ2.button.on_click(on_button_clicked)"
   ]
  },
  {
   "cell_type": "code",
   "execution_count": null,
   "metadata": {},
   "outputs": [],
   "source": []
  }
 ],
 "metadata": {
  "kernelspec": {
   "display_name": "Python 3",
   "language": "python",
   "name": "python3"
  },
  "language_info": {
   "codemirror_mode": {
    "name": "ipython",
    "version": 3
   },
   "file_extension": ".py",
   "mimetype": "text/x-python",
   "name": "python",
   "nbconvert_exporter": "python",
   "pygments_lexer": "ipython3",
   "version": "3.6.5"
  }
 },
 "nbformat": 4,
 "nbformat_minor": 2
}
