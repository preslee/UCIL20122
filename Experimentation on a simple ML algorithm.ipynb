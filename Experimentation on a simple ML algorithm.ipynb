{
 "cells": [
  {
   "cell_type": "markdown",
   "metadata": {},
   "source": [
    "## 2. Experimentation on a simple Machine Learning algorithm"
   ]
  },
  {
   "cell_type": "markdown",
   "metadata": {},
   "source": [
    "The **k-nearest neighbour** is one of the simplest algorithm used in Machine Learning. This algorithm classifies objects based on **features**. In Machine Learning, a **feature** is an individual measurable property or characteristic of a phaenomenon being observed.\n",
    "\n",
    "Assuming that we want to develop a program to identify whether a person is a ballet dancer or a rugby player, which of the following features you consider distinguishing? Run the following cell and select the answer."
   ]
  },
  {
   "cell_type": "code",
   "execution_count": 1,
   "metadata": {},
   "outputs": [
    {
     "data": {
      "application/vnd.jupyter.widget-view+json": {
       "model_id": "28dd771d893440acb8a2b10501348180",
       "version_major": 2,
       "version_minor": 0
      },
      "text/plain": [
       "SelectMultiple(description='Features', options=('Height', 'Weight', 'Age', 'Sex', 'Name'), value=())"
      ]
     },
     "metadata": {},
     "output_type": "display_data"
    },
    {
     "data": {
      "application/vnd.jupyter.widget-view+json": {
       "model_id": "fe0e6bd39ae04813973bd495023bcea8",
       "version_major": 2,
       "version_minor": 0
      },
      "text/plain": [
       "Button(description='Get feedback', style=ButtonStyle())"
      ]
     },
     "metadata": {},
     "output_type": "display_data"
    }
   ],
   "source": [
    "from Widget import *\n",
    "from getFeedbackOnFeatureSelection import *\n",
    "from IPython.display import *\n",
    "\n",
    "#Widget generator - please don't change\n",
    "newWidget = Widget (['Height', 'Weight', 'Age', 'Sex', 'Name'], 'Features')\n",
    "newWidget.createSelectMultiple()\n",
    "newWidget.displayWidget()\n",
    "\n",
    "#Generate the feedback - please don't change the code\n",
    "\n",
    "feedbackQ1 = getFeedbackOnFeatureSelection(newWidget)\n",
    "feedbackQ1.createButton(\"Get feedback\")\n",
    "feedbackQ1.displayButton()\n",
    "\n",
    "def on_button_clicked(b):\n",
    "    clear_output()\n",
    "    feedbackQ1.printFeedback(newWidget)\n",
    "feedbackQ1.button.on_click(on_button_clicked)"
   ]
  },
  {
   "cell_type": "markdown",
   "metadata": {},
   "source": [
    "In our analysis, consider the data sets below collected from a sample of ballet dancer and rugby players. In this table, we will represent **males** as 0 and **females** as 1."
   ]
  },
  {
   "cell_type": "markdown",
   "metadata": {},
   "source": [
    "|Person|Sex (0/1)|Age |Weight (Kg)|Height (cm)|\n",
    "|------|---------|----|-----------|-----------|\n",
    "|     1|        1|  24|         63|        190|\n",
    "|     2|        1|  20|         55|        185|\n",
    "|     3|        1|  25|         75|        202|\n",
    "|     4|        1|  30|         50|        180|\n",
    "|     5|        1|  19|         57|        174|\n",
    "|     6|        0|  31|         66|        174|\n",
    "|     7|        0|  31|         85|        150|\n",
    "|     8|        1|  28|         93|        145|\n",
    "|     9|        0|  29|         75|        130|\n",
    "|    10|        0|  24|         99|        163|\n",
    "|    11|        0|  30|        100|        171|\n",
    "|    12|        1|  25|         84|        168|"
   ]
  },
  {
   "cell_type": "markdown",
   "metadata": {},
   "source": [
    "Now, let's represent these values in 2-dimentional spaces taking different groups of 2 features into consideration. Please execute the code below to see how **weight** and **age** data is distributed in a 2 dimentional space."
   ]
  },
  {
   "cell_type": "code",
   "execution_count": 10,
   "metadata": {},
   "outputs": [],
   "source": [
    "import numpy as np\n",
    "from numpy import *\n",
    "import matplotlib.pyplot as plt\n",
    "\n",
    "#Collect the weights and ages from the table\n",
    "weights = [63, 55, 75, 50, 57, 66, 85, 93, 75, 99, 100, 84]\n",
    "ages = [24, 20, 25, 30, 19, 31, 31, 28, 29, 24, 30, 25]"
   ]
  },
  {
   "cell_type": "code",
   "execution_count": 11,
   "metadata": {},
   "outputs": [
    {
     "data": {
      "image/png": "[encoded data removed]",
      "text/plain": [
       "<Figure size 432x288 with 1 Axes>"
      ]
     },
     "metadata": {},
     "output_type": "display_data"
    }
   ],
   "source": [
    "#Plot the graph\n",
    "plt.scatter(weights,ages)\n",
    "plt.title(\"Data distribution on weights and ages\")\n",
    "plt.xlabel(\"Weight\")\n",
    "plt.ylabel(\"Age\")\n",
    "plt.show()"
   ]
  },
  {
   "cell_type": "markdown",
   "metadata": {},
   "source": [
    "It seems that from the graphic above it's impossible to identify **clusters**. This is because the age is not a distinguishing element that could separate rugby players and ballet dancers. Let's see how it works with **heights** and **weights**."
   ]
  },
  {
   "cell_type": "code",
   "execution_count": 12,
   "metadata": {},
   "outputs": [],
   "source": [
    "#Collect the heights and weights from the table\n",
    "heights = [190, 185, 202, 180, 174, 174, 150, 145, 130, 163, 171, 168]\n",
    "weights = [63, 55, 75, 50, 57, 66, 85, 93, 75, 99, 100, 84]"
   ]
  },
  {
   "cell_type": "code",
   "execution_count": 13,
   "metadata": {},
   "outputs": [
    {
     "data": {
      "image/png": "[encoded data removed]",
      "text/plain": [
       "<Figure size 432x288 with 1 Axes>"
      ]
     },
     "metadata": {},
     "output_type": "display_data"
    }
   ],
   "source": [
    "#Plot the graph\n",
    "plt.scatter(heights,weights)\n",
    "plt.title(\"Data distribution on heights and weights\")\n",
    "plt.xlabel(\"Height\")\n",
    "plt.ylabel(\"Weight\")\n",
    "plt.show()"
   ]
  },
  {
   "cell_type": "markdown",
   "metadata": {},
   "source": [
    "By choosing the **heights** and **weights** features to clasify these examples, two clusters of data can be distinguished: *top-left* and *bottom-right*. \n",
    "\n",
    "In your opinion, which one of these represents the rugby players? Execute the code below and choose your answer."
   ]
  },
  {
   "cell_type": "code",
   "execution_count": 14,
   "metadata": {},
   "outputs": [
    {
     "data": {
      "application/vnd.jupyter.widget-view+json": {
       "model_id": "e2532d5767ac4f88a295aea14da64fe4",
       "version_major": 2,
       "version_minor": 0
      },
      "text/plain": [
       "Select(description='Clusters', options=('Top-left', 'Bottom-right'), value='Top-left')"
      ]
     },
     "metadata": {},
     "output_type": "display_data"
    },
    {
     "data": {
      "application/vnd.jupyter.widget-view+json": {
       "model_id": "c53a8521d3c74840bc75735e52d619b0",
       "version_major": 2,
       "version_minor": 0
      },
      "text/plain": [
       "Button(description='Get feedback', style=ButtonStyle())"
      ]
     },
     "metadata": {},
     "output_type": "display_data"
    }
   ],
   "source": [
    "#Create the selection box - please don't change\n",
    "from getFeedbackOnClusters import *\n",
    "\n",
    "clusterWidget = Widget (['Top-left', 'Bottom-right'], 'Clusters')\n",
    "clusterWidget.createSelectSingle()\n",
    "clusterWidget.displayWidget()\n",
    "\n",
    "#Create the feedback button - don't change the code\n",
    "feedbackQ2 = getFeedbackOnClusters(clusterWidget)\n",
    "feedbackQ2.createButton(\"Get feedback\")\n",
    "feedbackQ2.displayButton()\n",
    "\n",
    "def on_button_clicked(b):\n",
    "    clear_output()\n",
    "    feedbackQ2.printFeedback(clusterWidget)\n",
    "feedbackQ2.button.on_click(on_button_clicked)"
   ]
  },
  {
   "cell_type": "markdown",
   "metadata": {},
   "source": [
    "Now that we clearly identified  2 data clusters (i.e. ballet dancers and rugby players), we can introduce our own data and predict whether our example is a rugby player or a ballet dancer. The data will be classified by the aid of the **k-nearest algorithm** which is designed (as the name suggests), to identify which class the new objects belongs to depending on the closests **k** neighbours. In this case, to calculate the distance between the input point and its neighbours, we'll use the **Pythagorean formula** : $$d = \\sqrt{(x_{2} - x_{1})^2 + (y_{2}-y_{1})^2}$$"
   ]
  },
  {
   "cell_type": "markdown",
   "metadata": {},
   "source": [
    "For now, let's preapare the data from the graph into a matrix that can be processed by the algorithm. Execute the cell below."
   ]
  },
  {
   "cell_type": "code",
   "execution_count": 15,
   "metadata": {},
   "outputs": [
    {
     "name": "stdout",
     "output_type": "stream",
     "text": [
      "[[190  63   1]\n",
      " [185  55   1]\n",
      " [202  75   1]\n",
      " [180  50   1]\n",
      " [174  57   1]\n",
      " [174  66   1]\n",
      " [150  85   0]\n",
      " [145  93   0]\n",
      " [130  75   0]\n",
      " [163  99   0]\n",
      " [171 100   0]\n",
      " [168  84   0]]\n"
     ]
    }
   ],
   "source": [
    "featuresMatrix = np.c_[transpose(heights), transpose(weights)]\n",
    "labelsMatrix = transpose([1, 1, 1, 1, 1, 1, 0, 0, 0, 0, 0, 0])\n",
    "trainingMatrix = np.c_[featuresMatrix, labelsMatrix]\n",
    "print (trainingMatrix)"
   ]
  },
  {
   "cell_type": "markdown",
   "metadata": {},
   "source": [
    "Next, replace the words in the code below to introduce your testing point containing the height and weight of a famouse rugby player or ballet dancer."
   ]
  },
  {
   "cell_type": "code",
   "execution_count": null,
   "metadata": {},
   "outputs": [],
   "source": [
    "#replace the ? below with your own testing value and run the code\n",
    "import math\n",
    "\n",
    "distances = np.empty([0,2])\n",
    "\n",
    "height = ?\n",
    "weight = ?\n",
    "\n",
    "testingPoint = [height, weight]\n",
    "\n",
    "#calculate the distances\n",
    "for trainingPoint in trainingMatrix:\n",
    "    trainingPoint[0]\n",
    "    distance = math.sqrt((trainingPoint[0] - height)**2 + (trainingPoint[1] - weight)**2)\n",
    "    distances = np.vstack([distances, [distance, trainingPoint[2]]])\n",
    "\n",
    "#sort the distances    \n",
    "distances = distances[distances[:,0].argsort()]\n",
    "\n",
    "classOne = 0\n",
    "classTwo = 0\n",
    "\n",
    "for i in range(0,5):\n",
    "    if distances[i][1] == 1:\n",
    "        classOne = classOne + 1\n",
    "    else:\n",
    "        classTwo = classTwo + 1\n",
    "\n",
    "if classOne > classTwo:\n",
    "    print(\"Ballet dancer\")\n",
    "else:\n",
    "        print(\"Rugby player\")"
   ]
  },
  {
   "cell_type": "markdown",
   "metadata": {},
   "source": []
  }
 ],
 "metadata": {
  "kernelspec": {
   "display_name": "Python 3",
   "language": "python",
   "name": "python3"
  },
  "language_info": {
   "codemirror_mode": {
    "name": "ipython",
    "version": 3
   },
   "file_extension": ".py",
   "mimetype": "text/x-python",
   "name": "python",
   "nbconvert_exporter": "python",
   "pygments_lexer": "ipython3",
   "version": "3.6.5"
  }
 },
 "nbformat": 4,
 "nbformat_minor": 2
}
