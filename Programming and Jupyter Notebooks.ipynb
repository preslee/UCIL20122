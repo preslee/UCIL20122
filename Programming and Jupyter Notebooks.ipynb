{
 "cells": [
  {
   "cell_type": "markdown",
   "metadata": {},
   "source": [
    "## 1. Programming and Jupyter Notebooks\n",
    "\n",
    "### 1.1. What is a programming language?\n",
    "\n",
    "For those who have no experience in programming at all, a programming language allows as to communicate (or give instructions) in a language computer understands.\n",
    "\n",
    "For the purpose of this lab, we will use Python 3 programming language because it's easy to work with and read especially for those who haven't programmed before, and it is widely used in data mining and big-data platforms."
   ]
  },
  {
   "cell_type": "markdown",
   "metadata": {},
   "source": [
    "### 1.2. Jupyter notebooks\n",
    "\n",
    "Jupyter framework is a Web application that allows to create notebooks. These notebooks allow us to execute programs (within cells) and analyse their results in the same place. In other words, it is used to support teaching\n",
    "and enables non-technical users to experiment with different algorithms and datasets without being necessary to install and configure any other tools.\n",
    "\n",
    "As part of this lab, you will be working with two types of cells: markdown and code cells.\n",
    "\n",
    "#### 1.2.1. Markdown (or text cells)\n",
    "\n",
    "These cells enable you to add, modify, or remove text. During the following sessions, you will be asked to submit your thoughts or answers on different topics.\n",
    "\n",
    "Please take a moment and modify the markdown cell below to greet yourself (i.e. Hello, [Insert your name]!). To do that, double-click the cell below, change the content and press \"▶| Run\" (or **shift** + **enter**).\n"
   ]
  },
  {
   "cell_type": "markdown",
   "metadata": {},
   "source": [
    "Hello, [your name]!"
   ]
  },
  {
   "cell_type": "markdown",
   "metadata": {},
   "source": [
    "#### 1.2.2. Code cells\n",
    "\n",
    "Now that you know how to run a markdown cell, let's try to execute some code cells. The program below tells the computer to print a greeting on the screen. \n",
    "\n",
    "Execute the program by clicking on the cell to activate it (it will be highlighted with green), press \"▶| Run\" or **shift** + **enter** and notice how \"Hello, World!\" is printed on the screen."
   ]
  },
  {
   "cell_type": "code",
   "execution_count": null,
   "metadata": {},
   "outputs": [],
   "source": [
    "print (\"Hello, World!\")"
   ]
  },
  {
   "cell_type": "markdown",
   "metadata": {},
   "source": [
    "As you can see, the result is shown on the bottom of the code cell.\n",
    "\n",
    "Let's make our program more dynamic by introducing **variables**. A **variable** is used to store information to be referenced and used within programs (like \"greeting\" and \"myName\" below).\n",
    "\n",
    "The example below shows how this works. Execute the code as it is, and then change the value of the variables to make the program execute a personalised greeting (i.e. Good morning, [Your Name]!)."
   ]
  },
  {
   "cell_type": "code",
   "execution_count": null,
   "metadata": {},
   "outputs": [],
   "source": [
    "# Assign value to variables\n",
    "greeting = 'Hello'\n",
    "myName = 'World'\n",
    "\n",
    "# Print the greeting\n",
    "print(greeting + ', ' + myName + '!')"
   ]
  },
  {
   "cell_type": "markdown",
   "metadata": {},
   "source": [
    "You probably noticed the **comments** inserted by \"**#**\". The **comments** have no effect when running a program, but they help the programmer to easily understand the code. Pay attention to them as they contain valuable clues when solving the exercises."
   ]
  },
  {
   "cell_type": "markdown",
   "metadata": {},
   "source": [
    "### 1.3 Arithmetic Operations with Python "
   ]
  },
  {
   "cell_type": "markdown",
   "metadata": {},
   "source": [
    "The **variables** may not only hold strings or alphabetic characters, but also **numeric** values. By using these values, we can perform arithmetic operations. In computing, within an arithmetic operation (e.g. 13 + 9; variableA + variableB), an **operand** is the part which specifies which data is to be manipulated (i.e. 13, 9, variableA, variableB), whereas an **operator** is the construct which can manipulate the value of **operands** (i.e. in this case **\"+\"**)."
   ]
  },
  {
   "cell_type": "markdown",
   "metadata": {},
   "source": [
    "For a detailed description of different types of operators, please access the following [link](https://www.tutorialspoint.com/python/python_basic_operators.htm). "
   ]
  },
  {
   "cell_type": "markdown",
   "metadata": {},
   "source": [
    "Now, let's experiment with the some of most used operators in this course. The line below assigns some values to the **variableA** and **variableB** variables. Bear in mind that in Python (and in many other programming languages), the operator **\"=\"** assigns values from right side operands to the left side operand. Run it."
   ]
  },
  {
   "cell_type": "code",
   "execution_count": null,
   "metadata": {},
   "outputs": [],
   "source": [
    "variableA = 13.9\n",
    "variableB = 8.35"
   ]
  },
  {
   "cell_type": "markdown",
   "metadata": {},
   "source": [
    "Now let's make an addition and print the result of **variableA + variableB**. Run the line below."
   ]
  },
  {
   "cell_type": "code",
   "execution_count": null,
   "metadata": {},
   "outputs": [],
   "source": [
    "result = variableA + variableB\n",
    "\n",
    "print(result)"
   ]
  },
  {
   "cell_type": "markdown",
   "metadata": {},
   "source": [
    "The order of operations you've learned in maths is also reflected in Python (and in programming in general). Please run the following cells to see the difference."
   ]
  },
  {
   "cell_type": "code",
   "execution_count": null,
   "metadata": {},
   "outputs": [],
   "source": [
    "10*6-4*9*8+2+7**3"
   ]
  },
  {
   "cell_type": "code",
   "execution_count": null,
   "metadata": {},
   "outputs": [],
   "source": [
    "10*6-4*9*8+(2+7)**3"
   ]
  },
  {
   "cell_type": "markdown",
   "metadata": {},
   "source": [
    "The standard notation in maths for the first expression is:\n",
    "\n",
    "$$10 \\times 6 - 4 \\times 9 \\times \\ 8 + 2 + 7^3,$$"
   ]
  },
  {
   "cell_type": "markdown",
   "metadata": {},
   "source": [
    "whereas the second expression is:"
   ]
  },
  {
   "cell_type": "markdown",
   "metadata": {},
   "source": [
    "$$10 \\times 6 - 4 \\times 9 \\times \\ 8 + (2 + 7)^3$$"
   ]
  },
  {
   "cell_type": "markdown",
   "metadata": {},
   "source": [
    "Now that you are familiar with the order of operations in Python, replace the \"?\" from the line below in order to obtain the current year (i.e. 2019) as a result:\n",
    "\n",
    "HINT: Think about decomposing numbers in base 10 pieces."
   ]
  },
  {
   "cell_type": "code",
   "execution_count": null,
   "metadata": {},
   "outputs": [],
   "source": [
    "2 ? 10 ? 3 ? 0 ? 10 ? 2 ? 1 ? 10 ? 1 ? 9 ? 10 ? 0"
   ]
  },
  {
   "cell_type": "markdown",
   "metadata": {},
   "source": [
    "### 1.4 Graphics with Python"
   ]
  },
  {
   "cell_type": "markdown",
   "metadata": {},
   "source": [
    "As you may probably know, programming is not only useful in for resolving complex arithmetic equations as you experimented above. For instance, another utility of it is the manipulation of graphics object (e.g. spheres) that may help you simulate different physical phenomena. If you ever wondered why you need to know mathematics if you want to be a game developer, let's simulate one of the easiest motions in physics which is the **[free fall](https://en.wikipedia.org/wiki/Free_fall)**."
   ]
  },
  {
   "cell_type": "code",
   "execution_count": 1,
   "metadata": {},
   "outputs": [
    {
     "data": {
      "application/javascript": [
       "if (typeof Jupyter !== \"undefined\") {require.undef(\"nbextensions/vpython_libraries/glow.min\");}else{element.textContent = ' ';}"
      ],
      "text/plain": [
       "<IPython.core.display.Javascript object>"
      ]
     },
     "metadata": {},
     "output_type": "display_data"
    },
    {
     "data": {
      "application/javascript": [
       "if (typeof Jupyter !== \"undefined\") {require.undef(\"nbextensions/vpython_libraries/glowcomm\");}else{element.textContent = ' ';}"
      ],
      "text/plain": [
       "<IPython.core.display.Javascript object>"
      ]
     },
     "metadata": {},
     "output_type": "display_data"
    },
    {
     "data": {
      "application/javascript": [
       "if (typeof Jupyter !== \"undefined\") {require.undef(\"nbextensions/vpython_libraries/jquery-ui.custom.min\");}else{element.textContent = ' ';}"
      ],
      "text/plain": [
       "<IPython.core.display.Javascript object>"
      ]
     },
     "metadata": {},
     "output_type": "display_data"
    },
    {
     "data": {
      "application/javascript": [
       "if (typeof Jupyter !== \"undefined\") {require([\"nbextensions/vpython_libraries/glow.min\"], function(){console.log(\"GLOW LOADED\");});}else{element.textContent = ' ';}"
      ],
      "text/plain": [
       "<IPython.core.display.Javascript object>"
      ]
     },
     "metadata": {},
     "output_type": "display_data"
    },
    {
     "data": {
      "application/javascript": [
       "if (typeof Jupyter !== \"undefined\") {require([\"nbextensions/vpython_libraries/glowcomm\"], function(){console.log(\"GLOWCOMM LOADED\");});}else{element.textContent = ' ';}"
      ],
      "text/plain": [
       "<IPython.core.display.Javascript object>"
      ]
     },
     "metadata": {},
     "output_type": "display_data"
    },
    {
     "data": {
      "application/javascript": [
       "if (typeof Jupyter !== \"undefined\") {require([\"nbextensions/vpython_libraries/jquery-ui.custom.min\"], function(){console.log(\"JQUERY LOADED\");});}else{element.textContent = ' ';}"
      ],
      "text/plain": [
       "<IPython.core.display.Javascript object>"
      ]
     },
     "metadata": {},
     "output_type": "display_data"
    },
    {
     "data": {
      "text/html": [
       "<div id=\"glowscript\" class=\"glowscript\"></div>"
      ],
      "text/plain": [
       "<IPython.core.display.HTML object>"
      ]
     },
     "metadata": {},
     "output_type": "display_data"
    },
    {
     "data": {
      "application/javascript": [
       "if (typeof Jupyter !== \"undefined\") { window.__context = { glowscript_container: $(\"#glowscript\").removeAttr(\"id\")};}else{ element.textContent = ' ';}"
      ],
      "text/plain": [
       "<IPython.core.display.Javascript object>"
      ]
     },
     "metadata": {},
     "output_type": "display_data"
    }
   ],
   "source": [
    "from vpython import *"
   ]
  },
  {
   "cell_type": "code",
   "execution_count": 2,
   "metadata": {},
   "outputs": [],
   "source": [
    "#Define the initial position of the ground and ball\n",
    "ball_location = vector(0,0,0)\n",
    "ground_location = vector(0,-10,0)"
   ]
  },
  {
   "cell_type": "code",
   "execution_count": 3,
   "metadata": {},
   "outputs": [
    {
     "data": {
      "text/html": [
       "<div id=\"glowscript\" class=\"glowscript\"></div>"
      ],
      "text/plain": [
       "<IPython.core.display.HTML object>"
      ]
     },
     "metadata": {},
     "output_type": "display_data"
    },
    {
     "data": {
      "application/javascript": [
       "if (typeof Jupyter !== \"undefined\") { window.__context = { glowscript_container: $(\"#glowscript\").removeAttr(\"id\")};}else{ element.textContent = ' ';}"
      ],
      "text/plain": [
       "<IPython.core.display.Javascript object>"
      ]
     },
     "metadata": {},
     "output_type": "display_data"
    }
   ],
   "source": [
    "#Define the dimentions and colors of the ball and floor - please feel free to experiment with different values\n",
    "scene = canvas(title = \"Free fall simulation\")\n",
    "ball = sphere(pos=ball_location, radius = 0.5, color = color.green)\n",
    "ground = box(pos=ground_location, size = vector(5, 0.5, 5), color = color.red)"
   ]
  },
  {
   "cell_type": "code",
   "execution_count": 5,
   "metadata": {},
   "outputs": [],
   "source": [
    "#Define the initial velocity of the ball on different axis (X, Y, Z)\n",
    "#Replace the '?' to set the initial velocity as 0. Then, feel free to experiment with different values\n",
    "ball.velocity = vector(0,0,0)\n",
    "\n",
    "#Define the mass of the ball\n",
    "ball.mass = 10\n",
    "\n",
    "#Linear momentum\n",
    "ball.p = ball.velocity * ball.mass\n",
    "\n",
    "#Replace the '?' with the value of the gravitational acceleration on Earth times -1 (as the direction is towards the ground)\n",
    "#Feel free to simulate this motion on different planets\n",
    "g = vector (0, -2, 0)\n",
    "\n",
    "#Calculate the net force\n",
    "NetForce = g * ball.mass\n",
    "\n",
    "#Set the time interval we want to observe the motion\n",
    "dt = 0.001\n",
    "t = 0"
   ]
  },
  {
   "cell_type": "code",
   "execution_count": 6,
   "metadata": {},
   "outputs": [],
   "source": [
    "#Simulate the motion - feel free to change the exit condition (t < 10) to simulate the motion for a longer period\n",
    "while(t < 50):\n",
    "    rate(300)\n",
    "    \n",
    "    #Calculate and display the ball's position depending on the previous position, mass, gravity, time\n",
    "    ball.pos=ball.pos + (ball.p / ball.mass) * dt\n",
    "    ball.p = ball.p + NetForce*dt\n",
    "    t = t + dt\n",
    "    \n",
    "    #Change the linear momentul direction once the ball hits the ground\n",
    "    if ball.pos.y < (ball.radius + ground.pos.y):\n",
    "        ball.p = -ball.p"
   ]
  },
  {
   "cell_type": "code",
   "execution_count": null,
   "metadata": {},
   "outputs": [],
   "source": []
  }
 ],
 "metadata": {
  "kernelspec": {
   "display_name": "Python 3",
   "language": "python",
   "name": "python3"
  },
  "language_info": {
   "codemirror_mode": {
    "name": "ipython",
    "version": 3
   },
   "file_extension": ".py",
   "mimetype": "text/x-python",
   "name": "python",
   "nbconvert_exporter": "python",
   "pygments_lexer": "ipython3",
   "version": "3.6.5"
  }
 },
 "nbformat": 4,
 "nbformat_minor": 2
}
