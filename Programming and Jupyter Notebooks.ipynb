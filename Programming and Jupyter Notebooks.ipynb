{
 "cells": [
  {
   "cell_type": "markdown",
   "metadata": {},
   "source": [
    "## 1. Programming and Jupyter Notebooks\n",
    "\n",
    "### 1.1. What is a programming language?\n",
    "\n",
    "For those who have no experience in programming at all, a programming language allows as to communicate (or give instructions) in a language computer understands.\n",
    "\n",
    "For the purpose of this lab, we will use Python 3 programming language because it's easy to work with and read especially for those who haven't programmed before, and it is widely used in data mining and big-data platforms."
   ]
  },
  {
   "cell_type": "markdown",
   "metadata": {},
   "source": [
    "### 1.2. Jupyter notebooks\n",
    "\n",
    "Jupyter framework is a Web application that allows to create notebooks. These notebooks allow us to execute programs (within cells) and analyse their results in the same place. In other words, it is used to support teaching\n",
    "and enables non-technical users to experiment with different algorithms and datasets without being necessary to install and configure any other tools.\n",
    "\n",
    "As part of this lab, you will be working with two types of cells: markdown and code cells.\n",
    "\n",
    "#### 1.2.1. Markdown (or text cells)\n",
    "\n",
    "These cells enable you to add, modify, or remove text. Throughout this lab, you will be asked to submit your thoughts or answers on different topics.\n",
    "\n",
    "Please take a moment and modify the markdown cell below to greet yourself (i.e. Hello, [Insert your name]!). To do that, double-click the cell below, change the content and press \"▶| Run\" (or **shift** + **enter**).\n",
    "\n",
    "\n",
    "[To add a screenshot of a notebook and explain the main functionalities.]\n",
    "\n",
    "[To create an introductory video, a run-through \"Explin everything\" - if we have time]\n",
    "\n",
    "[Next previous buttons, divide into sections]"
   ]
  },
  {
   "cell_type": "markdown",
   "metadata": {},
   "source": [
    "Hello, Paul!"
   ]
  },
  {
   "cell_type": "markdown",
   "metadata": {},
   "source": [
    "#### 1.2.2. Code cells\n",
    "\n",
    "Now that you know how to run a markdown cell, let's try to execute some code cells. The program below tells the computer to print a greeting on the screen. \n",
    "\n",
    "Execute the program by clicking on the cell to activate it (it will be highlighted with green), press \"▶| Run\" or **shift** + **enter** and notice how \"Hello, World!\" is printed on the screen."
   ]
  },
  {
   "cell_type": "code",
   "execution_count": null,
   "metadata": {},
   "outputs": [],
   "source": [
    "print (\"Hello, World!\")"
   ]
  },
  {
   "cell_type": "markdown",
   "metadata": {},
   "source": [
    "As you can see, the result is shown on the bottom of the code cell.\n",
    "\n",
    "Let's make our program more dynamic by introducing **variables**. A **variable** is used to store information to be referenced and used within programs (like \"greeting\" and \"myName\" below).\n",
    "\n",
    "The example below shows how this works. Execute the code as it is, and then change the value of the variables to make the program execute a personalised greeting (i.e. Good morning, [Your Name]!)."
   ]
  },
  {
   "cell_type": "code",
   "execution_count": null,
   "metadata": {},
   "outputs": [],
   "source": [
    "# Assign value to variables\n",
    "greeting = 'Hello'\n",
    "myName = 'World'\n",
    "\n",
    "# Print the greeting\n",
    "print(greeting + ', ' + myName + '!')"
   ]
  },
  {
   "cell_type": "markdown",
   "metadata": {},
   "source": [
    "You probably noticed the **comments** inserted by \"**#**\". The **comments** have no effect when running a program, but they help the programmer to easily understand the code. Pay attention to them as they contain valuable clues when solving the exercises."
   ]
  }
 ],
 "metadata": {
  "kernelspec": {
   "display_name": "Python 3",
   "language": "python",
   "name": "python3"
  },
  "language_info": {
   "codemirror_mode": {
    "name": "ipython",
    "version": 3
   },
   "file_extension": ".py",
   "mimetype": "text/x-python",
   "name": "python",
   "nbconvert_exporter": "python",
   "pygments_lexer": "ipython3",
   "version": "3.6.5"
  }
 },
 "nbformat": 4,
 "nbformat_minor": 2
}
