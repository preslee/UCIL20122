{
 "cells": [
  {
   "cell_type": "markdown",
   "metadata": {},
   "source": [
    "# Individual Project - analysis on big-data problems\n",
    "\n",
    "Within the scope of this project, you will be experimenting on different real-life problems that can be resolved by applying Artificial Intelligence and Machine Learning techniques on different datasets.\n",
    "\n",
    "## Intended Learning Outcomes\n",
    "\n",
    "The aim of this lab is to teach you:\n",
    "\n",
    "1. correctly identify the features to be used to resolve a big-data problem;\n",
    "2. identify the optimal Machine Learning algorithm by evaluating its accuracy and performance;\n",
    "3. how data is classified through Machine Learning algorithms.\n",
    "\n",
    "[More ILOs to be added]\n"
   ]
  },
  {
   "cell_type": "markdown",
   "metadata": {},
   "source": [
    "## 1. Programming and Jupyter Notebooks\n",
    "\n",
    "### 1.1. What is a programming language?\n",
    "\n",
    "For those who have no experience in programming at all, a programming language allows as to communicate (or give instructions) in a the language computer understands.\n",
    "\n",
    "For the purpose of this lab, we will use Python 3 programming language because it's easy to work with and read especially for those who haven't programmed before, and it is widely used in data mining and big-data platforms."
   ]
  },
  {
   "cell_type": "markdown",
   "metadata": {},
   "source": [
    "### 1.2. Jupyter notebooks\n",
    "\n",
    "Jupyter framework is a Web application that allows to create notebooks. These notebooks allow us to execute programs (within cells) and analyse their results in the same place. In other words, it is used to support teaching, and enables non-technical users to experiment with different algorithms and datasets without being necessary to install and configure any other tools.\n",
    "\n",
    "As part of this lab, you will be working with two types of cells: markdown and code cells.\n",
    "\n",
    "#### 1.2.1. Markdown (or text cells)\n",
    "\n",
    "These cells enable you to add, modify, or remove text. Throughout this lab, you will be asked to submit your thoughts or answers on different topics.\n",
    "\n",
    "Please take a moment and modify the markdown cell below to greet yourself (i.e. Hello, [Insert your name]!). To do that, double-click the cell below, change the content and press \"▶| Run\" (or **shift** + **enter**).\n",
    "\n",
    "\n",
    "[To add a screenshot of a notebook and explain the main functionalities.]\n",
    "\n",
    "[To create a introductory video, a run-through \"Explin everything\" - if we have time]\n",
    "\n",
    "[Next previous buttons, divide into sections]"
   ]
  },
  {
   "cell_type": "markdown",
   "metadata": {},
   "source": [
    "Hello, Paul!"
   ]
  },
  {
   "cell_type": "markdown",
   "metadata": {},
   "source": [
    "#### 1.2.2. Code cells\n",
    "\n",
    "Now that you know how to run a markdown cell, let's try execute some code cells. The program below tells the computer to print a greeting on the screen. \n",
    "\n",
    "Execute the program by clicking on the cell to activate it (it will be highlighted with green), press \"▶| Run\" or **shift** + **enter** and notice how \"Hello, World!\" is printed on the screen."
   ]
  },
  {
   "cell_type": "code",
   "execution_count": 1,
   "metadata": {},
   "outputs": [
    {
     "name": "stdout",
     "output_type": "stream",
     "text": [
      "Hello, World!\n"
     ]
    }
   ],
   "source": [
    "print (\"Hello, World!\")"
   ]
  },
  {
   "cell_type": "markdown",
   "metadata": {},
   "source": [
    "As you can see, the result is shown on the buttom of the code cell.\n",
    "\n",
    "Let's make our program more dynamic by introducing **variables**. A **variable** is used to store information to be referenced and used within programs (like \"greeting\" and \"myName\" below).\n",
    "\n",
    "The example below shows how this works. Execute the code as it is, and then change the value of the variables to make the program execute a personalised greeting (i.e. Good morning, [Your Name]!)."
   ]
  },
  {
   "cell_type": "code",
   "execution_count": 2,
   "metadata": {},
   "outputs": [
    {
     "name": "stdout",
     "output_type": "stream",
     "text": [
      "Hello, World!\n"
     ]
    }
   ],
   "source": [
    "# Assign value to variables\n",
    "greeting = 'Hello'\n",
    "myName = 'World'\n",
    "\n",
    "# Print the greeting\n",
    "print(greeting + ', ' + myName + '!')"
   ]
  },
  {
   "cell_type": "markdown",
   "metadata": {},
   "source": [
    "You probably noticed the **comments** inserted by \"**#**\". The **comments** have no effect when running a program, but they help the programmer to easily understand the code. Pay attention to them as they contain valuable clues when solving the exercises."
   ]
  },
  {
   "cell_type": "markdown",
   "metadata": {},
   "source": [
    "# 2. Experimentation on a simple Machine Learning algorithm"
   ]
  },
  {
   "cell_type": "markdown",
   "metadata": {},
   "source": [
    "The **k-nearest neighbour** is one of the simplest algorithm used in Machine Learning. This algorithm classifies objects based on **features**. In Machine Learning, a **feature** is an individual measurable property or characteristic of a phaenomenon being observed.\n",
    "\n",
    "Assuming that we want to develop a program to identify whether a person is a ballet dancer or a rugby player, which of the following features you consider distinguishing?"
   ]
  },
  {
   "cell_type": "code",
   "execution_count": 3,
   "metadata": {},
   "outputs": [
    {
     "name": "stdout",
     "output_type": "stream",
     "text": [
      "✔ The height is a distinguishing measurement as normally ballet dancers are taller than rugby players.\n",
      "✔ The average weight of an England rugby player is 105 kg. A ballet dancer's weight is between 40 - 60 kg.\n"
     ]
    }
   ],
   "source": [
    "from Widget import *\n",
    "from getFeedbackOnFeatureSelection import *\n",
    "from IPython.display import *\n",
    "\n",
    "#Widget generator - please don't change\n",
    "newWidget = Widget (['Height', 'Weight', 'Age', 'Sex', 'Name'], 'Features')\n",
    "newWidget.createSelectMultiple()\n",
    "newWidget.displayWidget()\n",
    "\n",
    "#Generate the feedback - please don't change the code\n",
    "\n",
    "feedbackQ1 = getFeedbackOnFeatureSelection(newWidget)\n",
    "feedbackQ1.createButton(\"Get feedback\")\n",
    "feedbackQ1.displayButton()\n",
    "\n",
    "def on_button_clicked(b):\n",
    "    clear_output()\n",
    "    feedbackQ1.printFeedback(newWidget)\n",
    "feedbackQ1.button.on_click(on_button_clicked)"
   ]
  },
  {
   "cell_type": "markdown",
   "metadata": {},
   "source": [
    "In our analysis, consider the data sets below collected from a sample of ballet dancer and rugby players. In this table, we will represent **males** as 0 and **females** as 1."
   ]
  },
  {
   "cell_type": "markdown",
   "metadata": {},
   "source": [
    "|Person|Sex (0/1)|Age |Weight (Kg)|Height (cm)|\n",
    "|------|---------|----|-----------|-----------|\n",
    "|     1|        1|  24|         63|        190|\n",
    "|     2|        1|  20|         55|        185|\n",
    "|     3|        0|  25|         75|        202|\n",
    "|     4|        1|  30|         50|        180|\n",
    "|     5|        0|  19|         57|        174|\n",
    "|     6|        0|  31|         85|        150|\n",
    "|     7|        1|  28|         93|        145|\n",
    "|     8|        0|  29|         75|        130|\n",
    "|     9|        0|  24|         99|        163|\n",
    "|    10|        0|  30|        100|        171|"
   ]
  },
  {
   "cell_type": "markdown",
   "metadata": {},
   "source": [
    "Now, let's represent these values in 2-dimentional spaces taking different groups of 2 features into consideration. Please execute the code below to see how **weight** and **age** data is distributed in a 2 dimentional space."
   ]
  },
  {
   "cell_type": "code",
   "execution_count": 2,
   "metadata": {},
   "outputs": [
    {
     "data": {
      "image/png": "[encoded data removed]",
      "text/plain": [
       "<Figure size 432x288 with 1 Axes>"
      ]
     },
     "metadata": {},
     "output_type": "display_data"
    }
   ],
   "source": [
    "from numpy import *\n",
    "import matplotlib.pyplot as plt\n",
    "\n",
    "#Collect the weights and ages from the table\n",
    "weights = [63, 55, 75, 50, 57, 85, 93, 75, 99, 100]\n",
    "ages = [24, 20, 25, 30, 19, 31, 28, 29, 24, 30]\n",
    "\n",
    "plt.scatter(weights,ages)\n",
    "plt.title(\"Data distribution on weights and ages\")\n",
    "plt.xlabel(\"Weight\")\n",
    "plt.ylabel(\"Age\")\n",
    "plt.show()"
   ]
  },
  {
   "cell_type": "markdown",
   "metadata": {},
   "source": [
    "It seems that from the graphic above it's impossible to identify **clusters**. This is because the age is not a distinguishing element that could separate rugby players and ballet dancers. Let's see how it works with **heights** and **weights**."
   ]
  },
  {
   "cell_type": "code",
   "execution_count": 4,
   "metadata": {},
   "outputs": [
    {
     "data": {
      "image/png": "[encoded data removed]",
      "text/plain": [
       "<Figure size 432x288 with 1 Axes>"
      ]
     },
     "metadata": {},
     "output_type": "display_data"
    }
   ],
   "source": [
    "#Collect the heights and weights from the table\n",
    "heights = [190, 185, 202, 180, 174, 150, 145, 130, 163, 171]\n",
    "weights = [63, 55, 75, 50, 57, 85, 93, 75, 99, 100]\n",
    "\n",
    "plt.scatter(heights,weights)\n",
    "plt.title(\"Data distribution on heights and weights\")\n",
    "plt.xlabel(\"Height\")\n",
    "plt.ylabel(\"Weight\")\n",
    "plt.show()"
   ]
  },
  {
   "cell_type": "markdown",
   "metadata": {},
   "source": [
    "By choosing the **heights** and **weights** features to clasify these examples, two clusters of data can be distinguished: *top-left* and *bottom-right*. \n",
    "\n",
    "In your opinion, which one of these represents the rugby players? Execute the code below and choose your answer."
   ]
  },
  {
   "cell_type": "code",
   "execution_count": 5,
   "metadata": {},
   "outputs": [
    {
     "name": "stdout",
     "output_type": "stream",
     "text": [
      "✔ Your answer is correct. Generally, rugby players are heavier and smaller than ballet dancers.\n"
     ]
    },
    {
     "data": {
      "image/png": "[encoded data removed]",
      "text/plain": [
       "<Figure size 432x288 with 1 Axes>"
      ]
     },
     "metadata": {},
     "output_type": "display_data"
    }
   ],
   "source": [
    "#Create the selection box - please don't change\n",
    "from getFeedbackOnClusters import *\n",
    "\n",
    "clusterWidget = Widget (['Top-left', 'Bottom-right'], 'Clusters')\n",
    "clusterWidget.createSelectSingle()\n",
    "clusterWidget.displayWidget()\n",
    "\n",
    "#Create the feedback button - don't change the code\n",
    "feedbackQ2 = getFeedbackOnClusters(clusterWidget)\n",
    "feedbackQ2.createButton(\"Get feedback\")\n",
    "feedbackQ2.displayButton()\n",
    "\n",
    "def on_button_clicked(b):\n",
    "    clear_output()\n",
    "    feedbackQ2.printFeedback(clusterWidget)\n",
    "feedbackQ2.button.on_click(on_button_clicked)"
   ]
  },
  {
   "cell_type": "raw",
   "metadata": {},
   "source": []
  },
  {
   "cell_type": "code",
   "execution_count": null,
   "metadata": {},
   "outputs": [],
   "source": []
  }
 ],
 "metadata": {
  "kernelspec": {
   "display_name": "Python 3",
   "language": "python",
   "name": "python3"
  },
  "language_info": {
   "codemirror_mode": {
    "name": "ipython",
    "version": 3
   },
   "file_extension": ".py",
   "mimetype": "text/x-python",
   "name": "python",
   "nbconvert_exporter": "python",
   "pygments_lexer": "ipython3",
   "version": "3.6.5"
  }
 },
 "nbformat": 4,
 "nbformat_minor": 2
}
